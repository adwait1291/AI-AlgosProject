{
 "cells": [
  {
   "cell_type": "code",
   "execution_count": 1,
   "metadata": {},
   "outputs": [],
   "source": [
    "import numpy as np\n",
    "import pandas as pd"
   ]
  },
  {
   "cell_type": "code",
   "execution_count": 2,
   "metadata": {},
   "outputs": [],
   "source": [
    "Gp1 = pd.read_csv(\"set2/Sr2setG1S2.csv\")\n",
    "Gp2 = pd.read_csv(\"set2/Sr4setG3S2.csv\")\n",
    "Gp3 = pd.read_csv(\"set2/Sr5setG4S2.csv\")\n",
    "Gp4 = pd.read_csv(\"set2/Sr6setG5S2.csv\")\n",
    "Gp5 = pd.read_csv(\"set2/Sr7setG6S2.csv\")\n",
    "Gp6 = pd.read_csv(\"set2/Sr8setG7S2.csv\")\n",
    "Gp7 = pd.read_csv(\"set2/Sr9setG8S2.csv\")\n",
    "Gp8 = pd.read_csv(\"set2/Sr10setG2S2.csv\")\n",
    "\n",
    "Gp9 = pd.read_csv(\"Team1S1/Sr2setG1S3 (Responses) - Form Responses 1.csv\")\n",
    "Gp10 = pd.read_csv(\"Team1S1/Sr2setG1S4 (Responses) - Form Responses 1.csv\")\n",
    "Gp11 = pd.read_csv(\"Team1S1/Sr2setG1S5 (Responses) - Form Responses 1.csv\")\n",
    "Gp12 = pd.read_csv(\"Team1S1/Sr2setG1S6 (Responses) - Form Responses 1.csv\")\n",
    "Gp13 = pd.read_csv(\"Team1S1/Sr2setG1S7 (Responses) - Form Responses 1.csv\")\n",
    "Gp14 = pd.read_csv(\"Team1S1/Sr4setG8000S3 (Responses) - Form Responses 1.csv\")\n",
    "Gp15 = pd.read_csv(\"Team1S1/Sr4setG8000S4 (Responses) - Form Responses 1.csv\")\n",
    "Gp16 = pd.read_csv(\"Team1S1/Sr4setG8000S5 (Responses) - Form Responses 1.csv\")\n",
    "\n",
    "\n",
    "G1 = pd.read_csv(\"Team2S1/Sr4setG8000S6.csv\")\n",
    "G2 = pd.read_csv(\"Team2S1/Sr4setG8000S7.csv\")\n",
    "G3 = pd.read_csv(\"Team2S1/Sr7setG8000S3.csv\")\n",
    "G4 = pd.read_csv(\"Weak2Team1Set1/Sr11Team1S2.1.csv\")\n",
    "G5 = pd.read_csv(\"Weak2Team1Set1/Sr11Team1S2.2.csv\")\n",
    "G6 = pd.read_csv(\"Weak2Team1Set1/Sr12Team1S2.1.csv\")\n",
    "G7 = pd.read_csv(\"Weak2Team1Set1/Sr12Team1S2.2.csv\")\n",
    "G8 = pd.read_csv(\"Weak2Team1Set1/Sr13Team1S2.1.csv\")\n",
    "G9 = pd.read_csv(\"Weak2Team1Set1/Sr13Team1S2.2.csv\")\n",
    "G10 = pd.read_csv(\"Weak2Team1Set1/Sr14Team1S2.1.csv\")\n",
    "G11 = pd.read_csv(\"Weak2Team1Set1/Sr14Team1S2.2.csv\")\n",
    "G12 = pd.read_csv(\"Weak2Team1Set1/Sr16Team1S2.1.csv\")\n",
    "G13 = pd.read_csv(\"Weak2Team1Set1/Sr16Team1S2.2.csv\")\n",
    "G14 = pd.read_csv(\"Weak2Team1Set2/Sr17Team1S2.1.csv\")\n",
    "G15 = pd.read_csv(\"Weak2Team1Set2/Sr17Team1S2.2.csv\")\n",
    "\n",
    "\n",
    "LGp1 = pd.read_csv(\"Lab2Annotations/Sr16S5.csv\")\n",
    "LGp2 = pd.read_csv(\"Lab2Annotations/Sr16S6.csv\")\n",
    "LGp3 = pd.read_csv(\"Lab2Annotations/Sr16S8.csv\")\n",
    "LGp4 = pd.read_csv(\"Lab2Annotations/Sr17S4.csv\")\n",
    "LGp5 = pd.read_csv(\"Lab2Annotations/Sr17S6.csv\")\n",
    "LGp6 = pd.read_csv(\"Lab2Annotations/Sr17S7.csv\")\n",
    "LGp7 = pd.read_csv(\"Lab2Annotations/Sr17S8.csv\")\n",
    "LGp8 = pd.read_csv(\"Lab2Annotations/Sr18S5.csv\")\n",
    "\n",
    "LGp9 = pd.read_csv(\"Lab2Annotations/Sr18S6.csv\")\n",
    "LGp10 = pd.read_csv(\"Lab2Annotations/Sr18S7.csv\")\n",
    "LGp11 = pd.read_csv(\"Lab2Annotations/Sr18S8.csv\")\n",
    "LGp12 = pd.read_csv(\"Lab2Annotations/Sr18S9.csv\")\n",
    "LGp13 = pd.read_csv(\"Lab2Annotations/Sr19S5.csv\")\n",
    "LGp14 = pd.read_csv(\"Lab2Annotations/Sr19S6.csv\")\n",
    "LGp15 = pd.read_csv(\"Lab2Annotations/Sr21S3.csv\")\n",
    "LGp16 = pd.read_csv(\"Lab2Annotations/Sr23S3.csv\")\n",
    "\n",
    "LGp17 = pd.read_csv(\"Lab2Annotations/Sr24S3.csv\")\n",
    "LGp18 = pd.read_csv(\"Lab2Annotations/Sr24S4.csv\")\n",
    "LGp19 = pd.read_csv(\"Lab2Annotations/Sr25S3.csv\")\n",
    "LGp20 = pd.read_csv(\"Lab2Annotations/Sr25S4.csv\")\n",
    "\n",
    "\n",
    "\n",
    "LG1 = pd.read_csv(\"Lab1Annotations/Sr11S3.csv\")\n",
    "LG2 = pd.read_csv(\"Lab1Annotations/Sr12S3.csv\")\n",
    "LG3 = pd.read_csv(\"Lab1Annotations/Sr12S5.csv\")\n",
    "LG4 = pd.read_csv(\"Lab1Annotations/Sr13S3.csv\")\n",
    "LG5 = pd.read_csv(\"Lab1Annotations/Sr13S5.csv\")\n",
    "LG6 = pd.read_csv(\"Lab1Annotations/Sr14S3.csv\")\n",
    "LG7 = pd.read_csv(\"Lab1Annotations/Sr14S4.csv\")\n",
    "LG8 = pd.read_csv(\"Lab1Annotations/Sr16S4.csv\")\n",
    "LG9 = pd.read_csv(\"Lab1Annotations/Sr17S3.csv\")\n",
    "LG10 = pd.read_csv(\"Lab1Annotations/Sr18S3.csv\")\n",
    "LG11 = pd.read_csv(\"Lab1Annotations/Sr18S4.csv\")\n",
    "LG12 = pd.read_csv(\"Lab1Annotations/Sr19S3.csv\")\n",
    "LG13 = pd.read_csv(\"Lab1Annotations/Sr19S4.csv\")\n",
    "LG14 = pd.read_csv(\"Lab1Annotations/Sr20S3.csv\")\n",
    "LG15 = pd.read_csv(\"Lab1Annotations/Sr31S3.csv\")\n",
    "LG16 = pd.read_csv(\"Lab1Annotations/Sr31S4.csv\")\n",
    "LG17 = pd.read_csv(\"Lab1Annotations/Sr31S5.csv\")\n",
    "\n",
    "GL = [LG1, LG2, LG3, LG4, LG5, LG6, LG7, LG8, LG9, LG10, LG11, LG12, LG13, LG14, LG15, LG16, LG17, LGp1, LGp2, LGp3, LGp4, LGp5, LGp6, LGp7, LGp8, LGp9, LGp10, LGp11, LGp12, LGp13, LGp14, LGp15, LGp16, LGp17, LGp18, LGp19, LGp20]\n",
    "\n",
    "\n",
    "G = GL+[G1, G2, G3, G4, G5, G6, G7, G8, G9, G10, G11, G12, G13, G14, G15, Gp1, Gp2, Gp3, Gp4, Gp5, Gp6, Gp7, Gp8, Gp9, Gp10, Gp11, Gp12, Gp13, Gp14, Gp15, Gp16]\n"
   ]
  },
  {
   "cell_type": "code",
   "execution_count": 3,
   "metadata": {},
   "outputs": [],
   "source": [
    "for i in range(len(G)):\n",
    "    if 'Email Address' in G[i].columns:\n",
    "        G[i] = G[i].drop(['Email Address'], axis = 1)\n",
    "    if 'Username' in G[i].columns:\n",
    "        G[i] = G[i].drop(['Username'], axis = 1)\n",
    "\n",
    "    G[i] = G[i].drop(['Timestamp'], axis=1)"
   ]
  },
  {
   "cell_type": "code",
   "execution_count": 4,
   "metadata": {},
   "outputs": [],
   "source": [
    "def convertToRow(df):\n",
    "    new_df= df[df.columns[:6]]\n",
    "    for i in range(6, len(df.columns), 6):\n",
    "        temp_df = df[df.columns[i:i+6]]\n",
    "        temp_df.rename(columns = {'Image.'+str(i//6):'Image', 'Text.'+str(i//6):'Text', 'Image + Text.'+str(i//6):'Image + Text', 'If Harmful / Severely Harmful, Why?.'+str(i//6):'If Harmful / Severely Harmful, Why?', 'Id.'+str(i//6):'Id', 'Is this a meme?.'+str(i//6):'Is this a meme?' }, inplace = True)\n",
    "        new_df = pd.concat([new_df, temp_df], axis=0, ignore_index=True)\n",
    "    return new_df"
   ]
  },
  {
   "cell_type": "code",
   "execution_count": 5,
   "metadata": {},
   "outputs": [
    {
     "name": "stderr",
     "output_type": "stream",
     "text": [
      "/Users/adwaitkesharwani/opt/anaconda3/lib/python3.9/site-packages/pandas/core/frame.py:5039: SettingWithCopyWarning: \n",
      "A value is trying to be set on a copy of a slice from a DataFrame\n",
      "\n",
      "See the caveats in the documentation: https://pandas.pydata.org/pandas-docs/stable/user_guide/indexing.html#returning-a-view-versus-a-copy\n",
      "  return super().rename(\n"
     ]
    }
   ],
   "source": [
    "for i in range(len(G)):\n",
    "    G[i] = convertToRow(G[i])"
   ]
  },
  {
   "cell_type": "code",
   "execution_count": 6,
   "metadata": {},
   "outputs": [],
   "source": [
    "df = G[0].append(G[1])\n",
    "for i in range(2, len(G)):\n",
    "    df = df.append(G[i])"
   ]
  },
  {
   "cell_type": "code",
   "execution_count": 7,
   "metadata": {},
   "outputs": [],
   "source": [
    "final_df = pd.read_csv(\"FinalTill14Jan/AnnotatedDataTillJan14.csv\")"
   ]
  },
  {
   "cell_type": "code",
   "execution_count": 8,
   "metadata": {},
   "outputs": [],
   "source": [
    "df = df[(df['Id'].isin(final_df['Id'].values))]"
   ]
  },
  {
   "cell_type": "code",
   "execution_count": 9,
   "metadata": {},
   "outputs": [
    {
     "data": {
      "text/html": [
       "<div>\n",
       "<style scoped>\n",
       "    .dataframe tbody tr th:only-of-type {\n",
       "        vertical-align: middle;\n",
       "    }\n",
       "\n",
       "    .dataframe tbody tr th {\n",
       "        vertical-align: top;\n",
       "    }\n",
       "\n",
       "    .dataframe thead th {\n",
       "        text-align: right;\n",
       "    }\n",
       "</style>\n",
       "<table border=\"1\" class=\"dataframe\">\n",
       "  <thead>\n",
       "    <tr style=\"text-align: right;\">\n",
       "      <th></th>\n",
       "      <th>Id</th>\n",
       "      <th>Is this a meme?</th>\n",
       "      <th>Image</th>\n",
       "      <th>Text</th>\n",
       "      <th>Image + Text</th>\n",
       "      <th>If Harmful / Severely Harmful, Why?</th>\n",
       "    </tr>\n",
       "  </thead>\n",
       "  <tbody>\n",
       "    <tr>\n",
       "      <th>0</th>\n",
       "      <td>iytb7r.jpg</td>\n",
       "      <td>Yes</td>\n",
       "      <td>Non Harmful</td>\n",
       "      <td>Non Harmful</td>\n",
       "      <td>Non Harmful</td>\n",
       "      <td>NaN</td>\n",
       "    </tr>\n",
       "    <tr>\n",
       "      <th>1</th>\n",
       "      <td>iytb7r.jpg</td>\n",
       "      <td>Yes</td>\n",
       "      <td>Non Harmful</td>\n",
       "      <td>Non Harmful</td>\n",
       "      <td>Non Harmful</td>\n",
       "      <td>NaN</td>\n",
       "    </tr>\n",
       "    <tr>\n",
       "      <th>2</th>\n",
       "      <td>iytb7r.jpg</td>\n",
       "      <td>Yes</td>\n",
       "      <td>Non Harmful</td>\n",
       "      <td>Non Harmful</td>\n",
       "      <td>Non Harmful</td>\n",
       "      <td>NaN</td>\n",
       "    </tr>\n",
       "    <tr>\n",
       "      <th>3</th>\n",
       "      <td>iy6m82.jpg</td>\n",
       "      <td>Yes</td>\n",
       "      <td>Harmful</td>\n",
       "      <td>Harmful</td>\n",
       "      <td>Harmful</td>\n",
       "      <td>Against Celebrity/Individual;Violent Content</td>\n",
       "    </tr>\n",
       "    <tr>\n",
       "      <th>4</th>\n",
       "      <td>iy6m82.jpg</td>\n",
       "      <td>Yes</td>\n",
       "      <td>Harmful</td>\n",
       "      <td>Non Harmful</td>\n",
       "      <td>Harmful</td>\n",
       "      <td>Against Celebrity/Individual</td>\n",
       "    </tr>\n",
       "  </tbody>\n",
       "</table>\n",
       "</div>"
      ],
      "text/plain": [
       "           Id Is this a meme?        Image         Text Image + Text  \\\n",
       "0  iytb7r.jpg             Yes  Non Harmful  Non Harmful  Non Harmful   \n",
       "1  iytb7r.jpg             Yes  Non Harmful  Non Harmful  Non Harmful   \n",
       "2  iytb7r.jpg             Yes  Non Harmful  Non Harmful  Non Harmful   \n",
       "3  iy6m82.jpg             Yes      Harmful      Harmful      Harmful   \n",
       "4  iy6m82.jpg             Yes      Harmful  Non Harmful      Harmful   \n",
       "\n",
       "            If Harmful / Severely Harmful, Why?  \n",
       "0                                           NaN  \n",
       "1                                           NaN  \n",
       "2                                           NaN  \n",
       "3  Against Celebrity/Individual;Violent Content  \n",
       "4                  Against Celebrity/Individual  "
      ]
     },
     "execution_count": 9,
     "metadata": {},
     "output_type": "execute_result"
    }
   ],
   "source": [
    "df.head()"
   ]
  },
  {
   "cell_type": "code",
   "execution_count": 10,
   "metadata": {},
   "outputs": [],
   "source": [
    "from sklearn.preprocessing import LabelEncoder\n",
    "cols_to_encode = ['Is this a meme?', 'Text', 'Image', 'Image + Text']\n",
    "for col in cols_to_encode:\n",
    "    label_encoder = LabelEncoder()\n",
    "    \n",
    "    df[col] = label_encoder.fit_transform(df[col])\n",
    "    for i in range(len(G)):\n",
    "        G[i][col] = label_encoder.transform(G[i][col])\n"
   ]
  },
  {
   "cell_type": "code",
   "execution_count": 11,
   "metadata": {},
   "outputs": [],
   "source": [
    "for i in range(len(G)):\n",
    "    G[i] = G[i].drop([\"If Harmful / Severely Harmful, Why?\"], axis=1)"
   ]
  },
  {
   "cell_type": "code",
   "execution_count": 12,
   "metadata": {},
   "outputs": [],
   "source": [
    "def merge_repeated_data(df):\n",
    "    new_df = pd.DataFrame()\n",
    "    unique_ids = df['Id'].unique()\n",
    "\n",
    "    for id in unique_ids:\n",
    "        current_df = df[df['Id'] == id]\n",
    "        data = {}\n",
    "        \n",
    "        for col in current_df.columns:\n",
    "            if col != 'Id':\n",
    "                col_data = current_df[col].tolist()\n",
    "                \n",
    "                data[col + '_1'] = col_data[0]\n",
    "                data[col + '_2'] = col_data[1]\n",
    "                data[col + '_3'] = col_data[2]\n",
    "                \n",
    "        new_df = new_df.append(data, ignore_index=True)\n",
    "    return new_df"
   ]
  },
  {
   "cell_type": "code",
   "execution_count": 13,
   "metadata": {},
   "outputs": [],
   "source": [
    "for i in range(len(G)):\n",
    "    G[i] = merge_repeated_data(G[i])\n"
   ]
  },
  {
   "cell_type": "code",
   "execution_count": 14,
   "metadata": {},
   "outputs": [],
   "source": [
    "df = G[0].append(G[1])\n",
    "for i in range(2, len(G)):\n",
    "    df = df.append(G[i])"
   ]
  },
  {
   "cell_type": "code",
   "execution_count": 15,
   "metadata": {},
   "outputs": [
    {
     "name": "stdout",
     "output_type": "stream",
     "text": [
      "<class 'pandas.core.frame.DataFrame'>\n",
      "Int64Index: 3539 entries, 0 to 49\n",
      "Data columns (total 12 columns):\n",
      " #   Column             Non-Null Count  Dtype  \n",
      "---  ------             --------------  -----  \n",
      " 0   Is this a meme?_1  3539 non-null   float64\n",
      " 1   Is this a meme?_2  3539 non-null   float64\n",
      " 2   Is this a meme?_3  3539 non-null   float64\n",
      " 3   Image_1            3539 non-null   float64\n",
      " 4   Image_2            3539 non-null   float64\n",
      " 5   Image_3            3539 non-null   float64\n",
      " 6   Text_1             3539 non-null   float64\n",
      " 7   Text_2             3539 non-null   float64\n",
      " 8   Text_3             3539 non-null   float64\n",
      " 9   Image + Text_1     3539 non-null   float64\n",
      " 10  Image + Text_2     3539 non-null   float64\n",
      " 11  Image + Text_3     3539 non-null   float64\n",
      "dtypes: float64(12)\n",
      "memory usage: 359.4 KB\n"
     ]
    }
   ],
   "source": [
    "df.info()"
   ]
  },
  {
   "cell_type": "code",
   "execution_count": 16,
   "metadata": {},
   "outputs": [
    {
     "data": {
      "text/html": [
       "<div>\n",
       "<style scoped>\n",
       "    .dataframe tbody tr th:only-of-type {\n",
       "        vertical-align: middle;\n",
       "    }\n",
       "\n",
       "    .dataframe tbody tr th {\n",
       "        vertical-align: top;\n",
       "    }\n",
       "\n",
       "    .dataframe thead th {\n",
       "        text-align: right;\n",
       "    }\n",
       "</style>\n",
       "<table border=\"1\" class=\"dataframe\">\n",
       "  <thead>\n",
       "    <tr style=\"text-align: right;\">\n",
       "      <th></th>\n",
       "      <th>Is this a meme?_1</th>\n",
       "      <th>Is this a meme?_2</th>\n",
       "      <th>Is this a meme?_3</th>\n",
       "      <th>Image_1</th>\n",
       "      <th>Image_2</th>\n",
       "      <th>Image_3</th>\n",
       "      <th>Text_1</th>\n",
       "      <th>Text_2</th>\n",
       "      <th>Text_3</th>\n",
       "      <th>Image + Text_1</th>\n",
       "      <th>Image + Text_2</th>\n",
       "      <th>Image + Text_3</th>\n",
       "    </tr>\n",
       "  </thead>\n",
       "  <tbody>\n",
       "    <tr>\n",
       "      <th>0</th>\n",
       "      <td>1.0</td>\n",
       "      <td>1.0</td>\n",
       "      <td>1.0</td>\n",
       "      <td>0.0</td>\n",
       "      <td>0.0</td>\n",
       "      <td>0.0</td>\n",
       "      <td>0.0</td>\n",
       "      <td>0.0</td>\n",
       "      <td>0.0</td>\n",
       "      <td>0.0</td>\n",
       "      <td>1.0</td>\n",
       "      <td>0.0</td>\n",
       "    </tr>\n",
       "    <tr>\n",
       "      <th>1</th>\n",
       "      <td>1.0</td>\n",
       "      <td>1.0</td>\n",
       "      <td>1.0</td>\n",
       "      <td>0.0</td>\n",
       "      <td>1.0</td>\n",
       "      <td>0.0</td>\n",
       "      <td>0.0</td>\n",
       "      <td>1.0</td>\n",
       "      <td>0.0</td>\n",
       "      <td>0.0</td>\n",
       "      <td>1.0</td>\n",
       "      <td>3.0</td>\n",
       "    </tr>\n",
       "    <tr>\n",
       "      <th>2</th>\n",
       "      <td>1.0</td>\n",
       "      <td>1.0</td>\n",
       "      <td>1.0</td>\n",
       "      <td>1.0</td>\n",
       "      <td>1.0</td>\n",
       "      <td>0.0</td>\n",
       "      <td>0.0</td>\n",
       "      <td>1.0</td>\n",
       "      <td>0.0</td>\n",
       "      <td>0.0</td>\n",
       "      <td>1.0</td>\n",
       "      <td>0.0</td>\n",
       "    </tr>\n",
       "    <tr>\n",
       "      <th>3</th>\n",
       "      <td>1.0</td>\n",
       "      <td>1.0</td>\n",
       "      <td>1.0</td>\n",
       "      <td>0.0</td>\n",
       "      <td>0.0</td>\n",
       "      <td>0.0</td>\n",
       "      <td>1.0</td>\n",
       "      <td>0.0</td>\n",
       "      <td>1.0</td>\n",
       "      <td>0.0</td>\n",
       "      <td>0.0</td>\n",
       "      <td>2.0</td>\n",
       "    </tr>\n",
       "    <tr>\n",
       "      <th>4</th>\n",
       "      <td>1.0</td>\n",
       "      <td>0.0</td>\n",
       "      <td>1.0</td>\n",
       "      <td>1.0</td>\n",
       "      <td>1.0</td>\n",
       "      <td>0.0</td>\n",
       "      <td>0.0</td>\n",
       "      <td>1.0</td>\n",
       "      <td>0.0</td>\n",
       "      <td>0.0</td>\n",
       "      <td>1.0</td>\n",
       "      <td>3.0</td>\n",
       "    </tr>\n",
       "  </tbody>\n",
       "</table>\n",
       "</div>"
      ],
      "text/plain": [
       "   Is this a meme?_1  Is this a meme?_2  Is this a meme?_3  Image_1  Image_2  \\\n",
       "0                1.0                1.0                1.0      0.0      0.0   \n",
       "1                1.0                1.0                1.0      0.0      1.0   \n",
       "2                1.0                1.0                1.0      1.0      1.0   \n",
       "3                1.0                1.0                1.0      0.0      0.0   \n",
       "4                1.0                0.0                1.0      1.0      1.0   \n",
       "\n",
       "   Image_3  Text_1  Text_2  Text_3  Image + Text_1  Image + Text_2  \\\n",
       "0      0.0     0.0     0.0     0.0             0.0             1.0   \n",
       "1      0.0     0.0     1.0     0.0             0.0             1.0   \n",
       "2      0.0     0.0     1.0     0.0             0.0             1.0   \n",
       "3      0.0     1.0     0.0     1.0             0.0             0.0   \n",
       "4      0.0     0.0     1.0     0.0             0.0             1.0   \n",
       "\n",
       "   Image + Text_3  \n",
       "0             0.0  \n",
       "1             3.0  \n",
       "2             0.0  \n",
       "3             2.0  \n",
       "4             3.0  "
      ]
     },
     "execution_count": 16,
     "metadata": {},
     "output_type": "execute_result"
    }
   ],
   "source": [
    "df.head()"
   ]
  },
  {
   "cell_type": "code",
   "execution_count": 17,
   "metadata": {},
   "outputs": [
    {
     "name": "stdout",
     "output_type": "stream",
     "text": [
      "Is this a meme?_1:   0.000628\n",
      "Image:               0.000429\n",
      "Text:                -2.2e-05\n",
      "Image + Text:        -0.0\n"
     ]
    }
   ],
   "source": [
    "import krippendorff\n",
    "\n",
    "voting_data = df[['Is this a meme?_1', 'Is this a meme?_2', 'Is this a meme?_3']].values\n",
    "alpha = krippendorff.alpha(reliability_data=voting_data)\n",
    "print(\"Is this a meme?_1:   \"+ str(alpha.round(6)))\n",
    "\n",
    "voting_data = df[['Image_1', 'Image_2', 'Image_3']].values\n",
    "alpha = krippendorff.alpha(reliability_data=voting_data)\n",
    "print(\"Image:               \"+ str(alpha.round(6)))\n",
    "\n",
    "voting_data = df[['Text_1', 'Text_2', 'Text_3']].values\n",
    "alpha = krippendorff.alpha(reliability_data=voting_data)\n",
    "print(\"Text:                \"+ str(alpha.round(6)))\n",
    "\n",
    "voting_data = df[['Image + Text_1', 'Image + Text_2', 'Image + Text_3']].values\n",
    "alpha = krippendorff.alpha(reliability_data=voting_data)\n",
    "print(\"Image + Text:        \"+ str(alpha.round(6)))"
   ]
  },
  {
   "cell_type": "code",
   "execution_count": 18,
   "metadata": {},
   "outputs": [],
   "source": [
    "df = df[(df['Is this a meme?_1']+df['Is this a meme?_2']+df['Is this a meme?_3']>=2.0)]"
   ]
  },
  {
   "cell_type": "code",
   "execution_count": 19,
   "metadata": {},
   "outputs": [
    {
     "name": "stdout",
     "output_type": "stream",
     "text": [
      "<class 'pandas.core.frame.DataFrame'>\n",
      "Int64Index: 2785 entries, 0 to 49\n",
      "Data columns (total 12 columns):\n",
      " #   Column             Non-Null Count  Dtype  \n",
      "---  ------             --------------  -----  \n",
      " 0   Is this a meme?_1  2785 non-null   float64\n",
      " 1   Is this a meme?_2  2785 non-null   float64\n",
      " 2   Is this a meme?_3  2785 non-null   float64\n",
      " 3   Image_1            2785 non-null   float64\n",
      " 4   Image_2            2785 non-null   float64\n",
      " 5   Image_3            2785 non-null   float64\n",
      " 6   Text_1             2785 non-null   float64\n",
      " 7   Text_2             2785 non-null   float64\n",
      " 8   Text_3             2785 non-null   float64\n",
      " 9   Image + Text_1     2785 non-null   float64\n",
      " 10  Image + Text_2     2785 non-null   float64\n",
      " 11  Image + Text_3     2785 non-null   float64\n",
      "dtypes: float64(12)\n",
      "memory usage: 282.9 KB\n"
     ]
    }
   ],
   "source": [
    "df.info()"
   ]
  },
  {
   "cell_type": "code",
   "execution_count": 20,
   "metadata": {},
   "outputs": [
    {
     "name": "stdout",
     "output_type": "stream",
     "text": [
      "Image:               0.001589\n",
      "Text:                0.000548\n",
      "Image + Text:        0.00045\n"
     ]
    }
   ],
   "source": [
    "#Only Meme\n",
    "voting_data = df[['Image_1', 'Image_2', 'Image_3']].values\n",
    "alpha = krippendorff.alpha(reliability_data=voting_data)\n",
    "print(\"Image:               \"+ str(alpha.round(6)))\n",
    "\n",
    "voting_data = df[['Text_1', 'Text_2', 'Text_3']].values\n",
    "alpha = krippendorff.alpha(reliability_data=voting_data)\n",
    "print(\"Text:                \"+ str(alpha.round(6)))\n",
    "\n",
    "voting_data = df[['Image + Text_1', 'Image + Text_2', 'Image + Text_3']].values\n",
    "alpha = krippendorff.alpha(reliability_data=voting_data)\n",
    "print(\"Image + Text:        \"+ str(alpha.round(6)))"
   ]
  },
  {
   "cell_type": "code",
   "execution_count": null,
   "metadata": {},
   "outputs": [],
   "source": []
  },
  {
   "cell_type": "code",
   "execution_count": null,
   "metadata": {},
   "outputs": [],
   "source": []
  }
 ],
 "metadata": {
  "kernelspec": {
   "display_name": "base",
   "language": "python",
   "name": "python3"
  },
  "language_info": {
   "codemirror_mode": {
    "name": "ipython",
    "version": 3
   },
   "file_extension": ".py",
   "mimetype": "text/x-python",
   "name": "python",
   "nbconvert_exporter": "python",
   "pygments_lexer": "ipython3",
   "version": "3.9.7"
  },
  "orig_nbformat": 4,
  "vscode": {
   "interpreter": {
    "hash": "9e40f00c4cda9194e6f7bca01dcded706cece6b68773349b5408ba20dabca6da"
   }
  }
 },
 "nbformat": 4,
 "nbformat_minor": 2
}
