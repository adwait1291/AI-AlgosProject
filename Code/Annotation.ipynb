{
 "cells": [
  {
   "cell_type": "code",
   "execution_count": 2,
   "id": "c9b9dc01",
   "metadata": {},
   "outputs": [],
   "source": [
    "import numpy as np\n",
    "import pandas as pd"
   ]
  },
  {
   "cell_type": "code",
   "execution_count": 4,
   "id": "6f312452",
   "metadata": {},
   "outputs": [],
   "source": [
    "#Set2 / Initial 8\n",
    "a1 = pd.read_csv(\"set2/Sr2setG1S2.csv\")\n",
    "a2 = pd.read_csv(\"set2/Sr4setG3S2.csv\")\n",
    "a3 = pd.read_csv(\"set2/Sr5setG4S2.csv\")\n",
    "a4 = pd.read_csv(\"set2/Sr6setG5S2.csv\")\n",
    "a5 = pd.read_csv(\"set2/Sr7setG6S2.csv\")\n",
    "a6 = pd.read_csv(\"set2/Sr8setG7S2.csv\")\n",
    "a7 = pd.read_csv(\"set2/Sr9setG8S2.csv\")\n",
    "a8 = pd.read_csv(\"set2/Sr10setG2S2.csv\")\n",
    "a = [a1, a2, a3, a4, a5, a6, a7, a8]"
   ]
  },
  {
   "cell_type": "code",
   "execution_count": 7,
   "id": "c0a05b56",
   "metadata": {},
   "outputs": [],
   "source": [
    "# Jan Team1S1\n",
    "b1 = pd.read_csv(\"Team1S1/Sr2setG1S3 (Responses) - Form Responses 1.csv\")\n",
    "b2 = pd.read_csv(\"Team1S1/Sr2setG1S4 (Responses) - Form Responses 1.csv\")\n",
    "b3 = pd.read_csv(\"Team1S1/Sr2setG1S5 (Responses) - Form Responses 1.csv\")\n",
    "b4 = pd.read_csv(\"Team1S1/Sr2setG1S6 (Responses) - Form Responses 1.csv\")\n",
    "b5 = pd.read_csv(\"Team1S1/Sr2setG1S7 (Responses) - Form Responses 1.csv\")\n",
    "b6 = pd.read_csv(\"Team1S1/Sr4setG8000S3 (Responses) - Form Responses 1.csv\")\n",
    "b7 = pd.read_csv(\"Team1S1/Sr4setG8000S4 (Responses) - Form Responses 1.csv\")\n",
    "b8 = pd.read_csv(\"Team1S1/Sr4setG8000S5 (Responses) - Form Responses 1.csv\")\n",
    "b = [b1, b2, b3, b4, b5, b6, b7, b8]"
   ]
  },
  {
   "cell_type": "code",
   "execution_count": 8,
   "id": "d4ffc0b1",
   "metadata": {},
   "outputs": [],
   "source": [
    "# Jan Team2S1\n",
    "c1 = pd.read_csv(\"Team2S1/Sr4setG8000S6.csv\")\n",
    "c2 = pd.read_csv(\"Team2S1/Sr4setG8000S7.csv\")\n",
    "c3 = pd.read_csv(\"Team2S1/Sr4setG8000S8.csv\")\n",
    "c4 = pd.read_csv(\"Team2S1/Sr4setG8000S9.csv\")\n",
    "c5 = pd.read_csv(\"Team2S1/Sr4setG8000S10.csv\")\n",
    "c6 = pd.read_csv(\"Team2S1/Sr4setG8000S11.csv\")\n",
    "c7 = pd.read_csv(\"Team2S1/Sr4setG8000S12.csv\")\n",
    "c8 = pd.read_csv(\"Team2S1/Sr7setG8000S3.csv\")\n",
    "c = [c1, c2, c3, c4, c5, c6, c7, c8]"
   ]
  },
  {
   "cell_type": "code",
   "execution_count": 9,
   "id": "c520f656",
   "metadata": {},
   "outputs": [],
   "source": [
    "# Jan Week2Team1Set1\n",
    "d1 = pd.read_csv(\"Weak2Team1Set1/Sr11Team1S2.1.csv\")\n",
    "d2 = pd.read_csv(\"Weak2Team1Set1/Sr11Team1S2.2.csv\")\n",
    "d3 = pd.read_csv(\"Weak2Team1Set1/Sr12Team1S2.1.csv\")\n",
    "d4 = pd.read_csv(\"Weak2Team1Set1/Sr12Team1S2.2.csv\")\n",
    "d5 = pd.read_csv(\"Weak2Team1Set1/Sr13Team1S2.1.csv\")\n",
    "d6 = pd.read_csv(\"Weak2Team1Set1/Sr13Team1S2.2.csv\")\n",
    "d7 = pd.read_csv(\"Weak2Team1Set1/Sr14Team1S2.1.csv\")\n",
    "d8 = pd.read_csv(\"Weak2Team1Set1/Sr14Team1S2.2.csv\")\n",
    "d9 = pd.read_csv(\"Weak2Team1Set1/Sr16Team1S2.1.csv\")\n",
    "d10 = pd.read_csv(\"Weak2Team1Set1/Sr16Team1S2.2.csv\")\n",
    "d = [d1, d2, d3, d4, d5, d6, d7, d8, d9, d10]"
   ]
  },
  {
   "cell_type": "code",
   "execution_count": 18,
   "id": "95571d77",
   "metadata": {},
   "outputs": [],
   "source": [
    "# Jan Week2Team1Set2\n",
    "e1 = pd.read_csv(\"Weak2Team1Set2/Sr17Team1S2.1.csv\")\n",
    "e2 = pd.read_csv(\"Weak2Team1Set2/Sr17Team1S2.2.csv\")\n",
    "e3 = pd.read_csv(\"Weak2Team1Set2/Sr18Team1S2.1.csv\")\n",
    "e4 = pd.read_csv(\"Weak2Team1Set2/Sr19Team1S2.1.csv\")\n",
    "e5 = pd.read_csv(\"Weak2Team1Set2/Sr19Team1S2.2.csv\")\n",
    "e6 = pd.read_csv(\"Weak2Team1Set2/Sr20Team1S2.1.csv\")\n",
    "e7 = pd.read_csv(\"Weak2Team1Set2/Sr20Team1S2.2.csv\")\n",
    "e8 = pd.read_csv(\"Weak2Team1Set2/Sr31Team1S2.1.csv\")\n",
    "e9 = pd.read_csv(\"Weak2Team1Set2/Sr31Team1S2.2.csv\")\n",
    "e = [e1, e2, e3, e4, e5, e6, e7, e8, e9]"
   ]
  },
  {
   "cell_type": "code",
   "execution_count": 19,
   "id": "38e60844",
   "metadata": {},
   "outputs": [],
   "source": [
    "# Jan Week2Team2Set1\n",
    "f1 = pd.read_csv(\"Weak2Team2S1/Sr21Team2S2.1.csv\")\n",
    "f2 = pd.read_csv(\"Weak2Team2S1/Sr21Team2S2.2.csv\")\n",
    "f3 = pd.read_csv(\"Weak2Team2S1/Sr22Team2S2.1.csv\")\n",
    "f4 = pd.read_csv(\"Weak2Team2S1/Sr22Team2S2.2.csv\")\n",
    "f5 = pd.read_csv(\"Weak2Team2S1/Sr23Team2S2.2.csv\")\n",
    "f6 = pd.read_csv(\"Weak2Team2S1/Sr24Team2S2.2.csv\")\n",
    "f7 = pd.read_csv(\"Weak2Team2S1/Sr25Team2S2.1.csv\")\n",
    "f = [f1, f2, f3, f4, f5, f6, f7]"
   ]
  },
  {
   "cell_type": "code",
   "execution_count": 20,
   "id": "3e3d4495",
   "metadata": {},
   "outputs": [],
   "source": [
    "# Jan Week2Team2Set1\n",
    "g1 = pd.read_csv(\"Weak2Team2S2/Sr26Team2S2.1.csv\")\n",
    "g2 = pd.read_csv(\"Weak2Team2S2/Sr26Team2S2.2.csv\")\n",
    "g3 = pd.read_csv(\"Weak2Team2S2/Sr27Team2S2.1.csv\")\n",
    "g = [g1, g2, g3]"
   ]
  },
  {
   "cell_type": "code",
   "execution_count": 21,
   "id": "f44deb49",
   "metadata": {},
   "outputs": [],
   "source": [
    "# Lab1\n",
    "h1 = pd.read_csv(\"Lab1Annotations/Sr11S3.csv\")\n",
    "h2 = pd.read_csv(\"Lab1Annotations/Sr11S4.csv\")\n",
    "h3 = pd.read_csv(\"Lab1Annotations/Sr11S5.csv\")\n",
    "h4 = pd.read_csv(\"Lab1Annotations/Sr12S3.csv\")\n",
    "h5 = pd.read_csv(\"Lab1Annotations/Sr12S4.csv\")\n",
    "h6 = pd.read_csv(\"Lab1Annotations/Sr12S5.csv\")\n",
    "h7 = pd.read_csv(\"Lab1Annotations/Sr13S3.csv\")\n",
    "h8 = pd.read_csv(\"Lab1Annotations/Sr13S5.csv\")\n",
    "h9 = pd.read_csv(\"Lab1Annotations/Sr14S3.csv\")\n",
    "h10 = pd.read_csv(\"Lab1Annotations/Sr14S4.csv\")\n",
    "h11 = pd.read_csv(\"Lab1Annotations/Sr14S5.csv\")\n",
    "h12 = pd.read_csv(\"Lab1Annotations/Sr16S4.csv\")\n",
    "h13 = pd.read_csv(\"Lab1Annotations/Sr17S3.csv\")\n",
    "h14 = pd.read_csv(\"Lab1Annotations/Sr18S3.csv\")\n",
    "h15 = pd.read_csv(\"Lab1Annotations/Sr18S4.csv\")\n",
    "h16 = pd.read_csv(\"Lab1Annotations/Sr19S3.csv\")\n",
    "h17 = pd.read_csv(\"Lab1Annotations/Sr19S4.csv\")\n",
    "h18 = pd.read_csv(\"Lab1Annotations/Sr20S3.csv\")\n",
    "h19 = pd.read_csv(\"Lab1Annotations/Sr31S3.csv\")\n",
    "h20 = pd.read_csv(\"Lab1Annotations/Sr31S4.csv\")\n",
    "h21 = pd.read_csv(\"Lab1Annotations/Sr31S5.csv\")\n",
    "h = [h1, h2, h3, h4, h5, h6, h7, h8, h9, h10, h11, h12, h13, h14, h15, h16, h17, h18, h19, h20, h21]"
   ]
  },
  {
   "cell_type": "code",
   "execution_count": 22,
   "id": "d13b0180",
   "metadata": {},
   "outputs": [],
   "source": [
    "# Lab2\n",
    "i1 = pd.read_csv(\"Lab2Annotations/Sr16S5.csv\")\n",
    "i2 = pd.read_csv(\"Lab2Annotations/Sr16S6.csv\")\n",
    "i3 = pd.read_csv(\"Lab2Annotations/Sr16S8.csv\")\n",
    "i4 = pd.read_csv(\"Lab2Annotations/Sr17S4.csv\")\n",
    "i5 = pd.read_csv(\"Lab2Annotations/Sr17S5.csv\")\n",
    "i6 = pd.read_csv(\"Lab2Annotations/Sr17S6.csv\")\n",
    "i7 = pd.read_csv(\"Lab2Annotations/Sr17S7.csv\")\n",
    "i8 = pd.read_csv(\"Lab2Annotations/Sr17S8.csv\")\n",
    "i9 = pd.read_csv(\"Lab2Annotations/Sr18S5.csv\")\n",
    "\n",
    "i10 = pd.read_csv(\"Lab2Annotations/Sr18S6.csv\")\n",
    "i11 = pd.read_csv(\"Lab2Annotations/Sr18S7.csv\")\n",
    "i12 = pd.read_csv(\"Lab2Annotations/Sr18S8.csv\")\n",
    "i13 = pd.read_csv(\"Lab2Annotations/Sr18S9.csv\")\n",
    "i14 = pd.read_csv(\"Lab2Annotations/Sr19S5.csv\")\n",
    "i15 = pd.read_csv(\"Lab2Annotations/Sr19S6.csv\")\n",
    "i16 = pd.read_csv(\"Lab2Annotations/Sr21S3.csv\")\n",
    "i17 = pd.read_csv(\"Lab2Annotations/Sr23S3.csv\")\n",
    "i18 = pd.read_csv(\"Lab2Annotations/Sr24S3.csv\")\n",
    "i19 = pd.read_csv(\"Lab2Annotations/Sr24S4.csv\")\n",
    "i20 = pd.read_csv(\"Lab2Annotations/Sr25S3.csv\")\n",
    "i21 = pd.read_csv(\"Lab2Annotations/Sr25S4.csv\")\n",
    "i = [i1, i2, i3, i4, i5, i6, i7, i8, i9, i10, i11, i12, i13, i14, i15, i16, i17, i18, i19, i20, i21]"
   ]
  },
  {
   "cell_type": "code",
   "execution_count": 23,
   "id": "501374cc",
   "metadata": {},
   "outputs": [
    {
     "name": "stdout",
     "output_type": "stream",
     "text": [
      "32\n"
     ]
    }
   ],
   "source": [
    "# LabNew\n",
    "j1 = pd.read_csv(\"LabNew/Sr11S###1 2.csv\")\n",
    "j2 = pd.read_csv(\"LabNew/Sr11S###1 3.csv\")\n",
    "j3 = pd.read_csv(\"LabNew/Sr11S###1.csv\")\n",
    "j4 = pd.read_csv(\"LabNew/Sr12S###2 2.csv\")\n",
    "j5 = pd.read_csv(\"LabNew/Sr12S###2 3.csv\")\n",
    "j6 = pd.read_csv(\"LabNew/Sr12S###2.csv\")\n",
    "j7 = pd.read_csv(\"LabNew/Sr13S###2.csv\")\n",
    "j8 = pd.read_csv(\"LabNew/Sr13S###8.csv\")\n",
    "j9 = pd.read_csv(\"LabNew/Sr14S###1.csv\")\n",
    "\n",
    "j10 = pd.read_csv(\"LabNew/Sr14S###6.csv\")\n",
    "j11 = pd.read_csv(\"LabNew/Sr14S###7.csv\")\n",
    "j12 = pd.read_csv(\"LabNew/Sr14S###8.csv\")\n",
    "j13 = pd.read_csv(\"LabNew/Sr14S###10.csv\")\n",
    "j14 = pd.read_csv(\"LabNew/Sr17S###2.csv\")\n",
    "j15 = pd.read_csv(\"LabNew/Sr18S###1.csv\")\n",
    "j16 = pd.read_csv(\"LabNew/Sr18S###3.csv\")\n",
    "j17 = pd.read_csv(\"LabNew/Sr18S###7.csv\")\n",
    "j18 = pd.read_csv(\"LabNew/Sr21S###2.csv\")\n",
    "j19 = pd.read_csv(\"LabNew/Sr21S###3.csv\")\n",
    "j20 = pd.read_csv(\"LabNew/Sr21S###4.csv\")\n",
    "\n",
    "j21 = pd.read_csv(\"LabNew/Sr21S###5.csv\")\n",
    "j22 = pd.read_csv(\"LabNew/Sr21S###6.csv\")\n",
    "j23 = pd.read_csv(\"LabNew/Sr21S###8.csv\")\n",
    "j24 = pd.read_csv(\"LabNew/Sr21S###9.csv\")\n",
    "j25 = pd.read_csv(\"LabNew/Sr21S###11.csv\")\n",
    "j26 = pd.read_csv(\"LabNew/Sr23S###1 2.csv\")\n",
    "j27 = pd.read_csv(\"LabNew/Sr23S###1.csv\")\n",
    "j28 = pd.read_csv(\"LabNew/Sr23S###3.csv\")\n",
    "j29 = pd.read_csv(\"LabNew/Sr23S###4.csv\")\n",
    "j30 = pd.read_csv(\"LabNew/Sr24S###1.csv\")\n",
    "j31 = pd.read_csv(\"LabNew/Sr24S###4.csv\")\n",
    "j32 = pd.read_csv(\"LabNew/Sr26S###2.csv\")\n",
    "j = [j1, j2, j3, j4, j5, j6, j7, j8, j9, j10, j11, j12, j13, j14, j15, j16, j17, j18, j19, j20, j21, j22, j23, j24, j25, j26, j27, j28, j29, j30, j31, j32]\n",
    "print(len(j))"
   ]
  },
  {
   "cell_type": "code",
   "execution_count": 26,
   "id": "b9742512",
   "metadata": {},
   "outputs": [
    {
     "name": "stdout",
     "output_type": "stream",
     "text": [
      "127\n"
     ]
    }
   ],
   "source": [
    "\n",
    "G = a+b+c+d+e+f+g+h+i+j\n",
    "print(len(G))\n"
   ]
  },
  {
   "cell_type": "code",
   "execution_count": 27,
   "id": "630ee99f",
   "metadata": {},
   "outputs": [],
   "source": [
    "for i in range(len(G)):\n",
    "    if 'Email Address' in G[i].columns:\n",
    "        G[i] = G[i].drop(['Email Address'], axis = 1)\n",
    "    if 'Username' in G[i].columns:\n",
    "        G[i] = G[i].drop(['Username'], axis = 1)\n",
    "\n",
    "    G[i] = G[i].drop(['Timestamp'], axis=1)"
   ]
  },
  {
   "cell_type": "code",
   "execution_count": 28,
   "id": "1f31ecf9",
   "metadata": {},
   "outputs": [],
   "source": [
    "def convertToRow(df):\n",
    "    new_df= df[df.columns[:6]]\n",
    "    for i in range(6, len(df.columns), 6):\n",
    "        temp_df = df[df.columns[i:i+6]]\n",
    "        temp_df.rename(columns = {'Image.'+str(i//6):'Image', 'Text.'+str(i//6):'Text', 'Image + Text.'+str(i//6):'Image + Text', 'If Harmful / Severely Harmful, Why?.'+str(i//6):'If Harmful / Severely Harmful, Why?', 'Id.'+str(i//6):'Id', 'Is this a meme?.'+str(i//6):'Is this a meme?' }, inplace = True)\n",
    "        new_df = pd.concat([new_df, temp_df], axis=0, ignore_index=True)\n",
    "    return new_df"
   ]
  },
  {
   "cell_type": "code",
   "execution_count": 29,
   "id": "bed6efe7",
   "metadata": {},
   "outputs": [
    {
     "name": "stderr",
     "output_type": "stream",
     "text": [
      "/Users/adwaitkesharwani/opt/anaconda3/lib/python3.9/site-packages/pandas/core/frame.py:5039: SettingWithCopyWarning: \n",
      "A value is trying to be set on a copy of a slice from a DataFrame\n",
      "\n",
      "See the caveats in the documentation: https://pandas.pydata.org/pandas-docs/stable/user_guide/indexing.html#returning-a-view-versus-a-copy\n",
      "  return super().rename(\n"
     ]
    }
   ],
   "source": [
    "for i in range(len(G)):\n",
    "    G[i] = convertToRow(G[i])"
   ]
  },
  {
   "cell_type": "code",
   "execution_count": 30,
   "id": "518934a0",
   "metadata": {},
   "outputs": [],
   "source": [
    "def takMajorityVoting(df):\n",
    "    new_df = df[:1]\n",
    "    for i in range(0,len(df),3):\n",
    "        temp_df = df[i:i+3]\n",
    "        temp_df = temp_df.reset_index()\n",
    "        row = {}\n",
    "        # Id\n",
    "        row['Id'] = df['Id'][i]\n",
    "        meme = temp_df['Is this a meme?'].value_counts()\n",
    "        if 'Yes' in meme.keys() and meme['Yes']>=2:\n",
    "            row['Is this a meme?'] = 'Yes'\n",
    "            \n",
    "            \n",
    "            \n",
    "            # Image\n",
    "            img = temp_df['Image'].value_counts()\n",
    "            if 'Harmful' in img.keys() and img['Harmful']>=2:\n",
    "                row['Image'] = 'Harmful'\n",
    "            elif 'Non Harmful' in img.keys() and img['Non Harmful']>=2:\n",
    "                row['Image'] = 'Non Harmful'\n",
    "            elif 'Severely Harmful' in img.keys() and img['Severely Harmful']>=2:\n",
    "                row['Image'] = 'Severely Harmful'\n",
    "            else:\n",
    "                row['Image'] = 'Mark For Review'\n",
    "               \n",
    "            # Text \n",
    "            txt = temp_df['Text'].value_counts()\n",
    "            if 'Harmful' in txt.keys() and txt['Harmful']>=2:\n",
    "                row['Text'] = 'Harmful'\n",
    "            elif 'Non Harmful' in txt.keys() and txt['Non Harmful']>=2:\n",
    "                row['Text'] = 'Non Harmful'\n",
    "            elif 'Severely Harmful' in txt.keys() and txt['Severely Harmful']>=2:\n",
    "                row['Text'] = 'Severely Harmful'\n",
    "            else:\n",
    "                row['Text'] = 'Mark For Review'\n",
    "                \n",
    "            # Image + Text\n",
    "            imgtxt = temp_df['Image + Text'].value_counts()\n",
    "            if 'Harmful' in imgtxt.keys() and imgtxt['Harmful']>=2:\n",
    "                row['Image + Text'] = 'Harmful'\n",
    "            elif 'Non Harmful' in imgtxt.keys() and imgtxt['Non Harmful']>=2:\n",
    "                row['Image + Text'] = 'Non Harmful'\n",
    "            elif 'Severely Harmful' in imgtxt.keys() and imgtxt['Severely Harmful']>=2:\n",
    "                row['Image + Text'] = 'Severely Harmful'\n",
    "            else:\n",
    "                row['Image + Text'] = 'Mark For Review'\n",
    "                \n",
    "            # Why\n",
    "            row['If Harmful / Severely Harmful, Why?'] = \"\"\n",
    "            if row['Image + Text'] != 'Non Harmful':\n",
    "                temp_df.dropna(inplace=True)\n",
    "                temp_df.reset_index(drop = True, inplace = True)\n",
    "                for j in range(len(temp_df)):\n",
    "                    reasons = temp_df['If Harmful / Severely Harmful, Why?'][j].split(';')\n",
    "                    for reason in reasons:\n",
    "                        row['If Harmful / Severely Harmful, Why?']+=str(reason)\n",
    "                        row['If Harmful / Severely Harmful, Why?']+=','\n",
    "        else:\n",
    "            row['Is this a meme?'] = 'No'    \n",
    "                        \n",
    "        \n",
    "        row = pd.DataFrame(row, index = [0])\n",
    "        new_df = pd.concat([new_df, row], axis=0, ignore_index=True)\n",
    "    new_df = new_df[1:]\n",
    "    new_df.reset_index(drop = True, inplace = True)\n",
    "    return new_df\n",
    "            "
   ]
  },
  {
   "cell_type": "code",
   "execution_count": 31,
   "id": "0ed42b3b",
   "metadata": {},
   "outputs": [],
   "source": [
    "for i in range(len(G)):\n",
    "    G[i] = takMajorityVoting(G[i])"
   ]
  },
  {
   "cell_type": "code",
   "execution_count": 32,
   "id": "f6a059a6",
   "metadata": {},
   "outputs": [],
   "source": [
    "def preProcessWhy(df):\n",
    "    whyDf = pd.DataFrame(columns=['Id','Against Women','Against Country/Region','Against Sexual Preference','Against Religion/Ethinicity','Against Celebrity/Individual', 'Against Brand/Industry/Product', 'Against Organization', 'Sexual Content', 'Violent Content', 'Other Reason'])\n",
    "    for i in range(len(df['If Harmful / Severely Harmful, Why?'])):\n",
    "        why_i = df['If Harmful / Severely Harmful, Why?'][i]\n",
    "        row = {k:0 for k in whyDf.columns}\n",
    "        row['Id'] = df['Id'][i]\n",
    "        temp_list = list(set(str(why_i).split(',')))\n",
    "        for j in temp_list:\n",
    "            if len(j)!=0:\n",
    "                row[j.strip()] = 1\n",
    "        row = pd.DataFrame(row, index = [0])\n",
    "        whyDf = pd.concat([whyDf, row], axis = 0, ignore_index=True)\n",
    "    df = pd.merge(df, whyDf)\n",
    "    if 'nan' in df.columns:\n",
    "        df = df.drop(['nan'], axis=1)\n",
    "    df = df.drop(['If Harmful / Severely Harmful, Why?'], axis=1)\n",
    "\n",
    "    return df"
   ]
  },
  {
   "cell_type": "code",
   "execution_count": 33,
   "id": "e3e6cf8e",
   "metadata": {},
   "outputs": [],
   "source": [
    "G[0] = preProcessWhy(G[0])\n",
    "df = G[0]\n",
    "for i in range(1, len(G)):\n",
    "    G[i] = preProcessWhy(G[i])\n",
    "    df = pd.concat([df, G[i]], axis=0, ignore_index=True)"
   ]
  },
  {
   "cell_type": "code",
   "execution_count": 34,
   "id": "7e9abbcc",
   "metadata": {},
   "outputs": [
    {
     "name": "stdout",
     "output_type": "stream",
     "text": [
      "<class 'pandas.core.frame.DataFrame'>\n",
      "RangeIndex: 6595 entries, 0 to 6594\n",
      "Data columns (total 15 columns):\n",
      " #   Column                          Non-Null Count  Dtype \n",
      "---  ------                          --------------  ----- \n",
      " 0   Id                              6595 non-null   object\n",
      " 1   Is this a meme?                 6595 non-null   object\n",
      " 2   Image                           5265 non-null   object\n",
      " 3   Text                            5265 non-null   object\n",
      " 4   Image + Text                    5265 non-null   object\n",
      " 5   Against Women                   6595 non-null   object\n",
      " 6   Against Country/Region          6595 non-null   object\n",
      " 7   Against Sexual Preference       6595 non-null   object\n",
      " 8   Against Religion/Ethinicity     6595 non-null   object\n",
      " 9   Against Celebrity/Individual    6595 non-null   object\n",
      " 10  Against Brand/Industry/Product  6595 non-null   object\n",
      " 11  Against Organization            6595 non-null   object\n",
      " 12  Sexual Content                  6595 non-null   object\n",
      " 13  Violent Content                 6595 non-null   object\n",
      " 14  Other Reason                    6595 non-null   object\n",
      "dtypes: object(15)\n",
      "memory usage: 773.0+ KB\n"
     ]
    }
   ],
   "source": [
    "df.info()"
   ]
  },
  {
   "cell_type": "code",
   "execution_count": 35,
   "id": "1b7a2efd",
   "metadata": {},
   "outputs": [
    {
     "data": {
      "text/html": [
       "<div>\n",
       "<style scoped>\n",
       "    .dataframe tbody tr th:only-of-type {\n",
       "        vertical-align: middle;\n",
       "    }\n",
       "\n",
       "    .dataframe tbody tr th {\n",
       "        vertical-align: top;\n",
       "    }\n",
       "\n",
       "    .dataframe thead th {\n",
       "        text-align: right;\n",
       "    }\n",
       "</style>\n",
       "<table border=\"1\" class=\"dataframe\">\n",
       "  <thead>\n",
       "    <tr style=\"text-align: right;\">\n",
       "      <th></th>\n",
       "      <th>Id</th>\n",
       "      <th>Is this a meme?</th>\n",
       "      <th>Image</th>\n",
       "      <th>Text</th>\n",
       "      <th>Image + Text</th>\n",
       "      <th>Against Women</th>\n",
       "      <th>Against Country/Region</th>\n",
       "      <th>Against Sexual Preference</th>\n",
       "      <th>Against Religion/Ethinicity</th>\n",
       "      <th>Against Celebrity/Individual</th>\n",
       "      <th>Against Brand/Industry/Product</th>\n",
       "      <th>Against Organization</th>\n",
       "      <th>Sexual Content</th>\n",
       "      <th>Violent Content</th>\n",
       "      <th>Other Reason</th>\n",
       "    </tr>\n",
       "  </thead>\n",
       "  <tbody>\n",
       "    <tr>\n",
       "      <th>6590</th>\n",
       "      <td>y2ws0u.jpg</td>\n",
       "      <td>Yes</td>\n",
       "      <td>Mark For Review</td>\n",
       "      <td>Non Harmful</td>\n",
       "      <td>Harmful</td>\n",
       "      <td>0</td>\n",
       "      <td>0</td>\n",
       "      <td>0</td>\n",
       "      <td>1</td>\n",
       "      <td>0</td>\n",
       "      <td>0</td>\n",
       "      <td>0</td>\n",
       "      <td>0</td>\n",
       "      <td>0</td>\n",
       "      <td>0</td>\n",
       "    </tr>\n",
       "    <tr>\n",
       "      <th>6591</th>\n",
       "      <td>y1d9k7.jpg</td>\n",
       "      <td>Yes</td>\n",
       "      <td>Non Harmful</td>\n",
       "      <td>Non Harmful</td>\n",
       "      <td>Non Harmful</td>\n",
       "      <td>0</td>\n",
       "      <td>0</td>\n",
       "      <td>0</td>\n",
       "      <td>0</td>\n",
       "      <td>0</td>\n",
       "      <td>0</td>\n",
       "      <td>0</td>\n",
       "      <td>0</td>\n",
       "      <td>0</td>\n",
       "      <td>0</td>\n",
       "    </tr>\n",
       "    <tr>\n",
       "      <th>6592</th>\n",
       "      <td>y20pkw.jpg</td>\n",
       "      <td>Yes</td>\n",
       "      <td>Non Harmful</td>\n",
       "      <td>Mark For Review</td>\n",
       "      <td>Mark For Review</td>\n",
       "      <td>0</td>\n",
       "      <td>0</td>\n",
       "      <td>0</td>\n",
       "      <td>0</td>\n",
       "      <td>0</td>\n",
       "      <td>0</td>\n",
       "      <td>0</td>\n",
       "      <td>0</td>\n",
       "      <td>1</td>\n",
       "      <td>1</td>\n",
       "    </tr>\n",
       "    <tr>\n",
       "      <th>6593</th>\n",
       "      <td>y20tn4.jpg</td>\n",
       "      <td>Yes</td>\n",
       "      <td>Mark For Review</td>\n",
       "      <td>Mark For Review</td>\n",
       "      <td>Mark For Review</td>\n",
       "      <td>0</td>\n",
       "      <td>0</td>\n",
       "      <td>0</td>\n",
       "      <td>0</td>\n",
       "      <td>1</td>\n",
       "      <td>1</td>\n",
       "      <td>0</td>\n",
       "      <td>0</td>\n",
       "      <td>0</td>\n",
       "      <td>1</td>\n",
       "    </tr>\n",
       "    <tr>\n",
       "      <th>6594</th>\n",
       "      <td>y1ueo4.jpg</td>\n",
       "      <td>Yes</td>\n",
       "      <td>Non Harmful</td>\n",
       "      <td>Mark For Review</td>\n",
       "      <td>Mark For Review</td>\n",
       "      <td>0</td>\n",
       "      <td>0</td>\n",
       "      <td>0</td>\n",
       "      <td>0</td>\n",
       "      <td>0</td>\n",
       "      <td>0</td>\n",
       "      <td>0</td>\n",
       "      <td>0</td>\n",
       "      <td>0</td>\n",
       "      <td>1</td>\n",
       "    </tr>\n",
       "  </tbody>\n",
       "</table>\n",
       "</div>"
      ],
      "text/plain": [
       "              Id Is this a meme?            Image             Text  \\\n",
       "6590  y2ws0u.jpg             Yes  Mark For Review      Non Harmful   \n",
       "6591  y1d9k7.jpg             Yes      Non Harmful      Non Harmful   \n",
       "6592  y20pkw.jpg             Yes      Non Harmful  Mark For Review   \n",
       "6593  y20tn4.jpg             Yes  Mark For Review  Mark For Review   \n",
       "6594  y1ueo4.jpg             Yes      Non Harmful  Mark For Review   \n",
       "\n",
       "         Image + Text Against Women Against Country/Region  \\\n",
       "6590          Harmful             0                      0   \n",
       "6591      Non Harmful             0                      0   \n",
       "6592  Mark For Review             0                      0   \n",
       "6593  Mark For Review             0                      0   \n",
       "6594  Mark For Review             0                      0   \n",
       "\n",
       "     Against Sexual Preference Against Religion/Ethinicity  \\\n",
       "6590                         0                           1   \n",
       "6591                         0                           0   \n",
       "6592                         0                           0   \n",
       "6593                         0                           0   \n",
       "6594                         0                           0   \n",
       "\n",
       "     Against Celebrity/Individual Against Brand/Industry/Product  \\\n",
       "6590                            0                              0   \n",
       "6591                            0                              0   \n",
       "6592                            0                              0   \n",
       "6593                            1                              1   \n",
       "6594                            0                              0   \n",
       "\n",
       "     Against Organization Sexual Content Violent Content Other Reason  \n",
       "6590                    0              0               0            0  \n",
       "6591                    0              0               0            0  \n",
       "6592                    0              0               1            1  \n",
       "6593                    0              0               0            1  \n",
       "6594                    0              0               0            1  "
      ]
     },
     "execution_count": 35,
     "metadata": {},
     "output_type": "execute_result"
    }
   ],
   "source": [
    "df.tail()"
   ]
  },
  {
   "cell_type": "code",
   "execution_count": 36,
   "id": "201a09ec",
   "metadata": {},
   "outputs": [
    {
     "name": "stdout",
     "output_type": "stream",
     "text": [
      "<class 'pandas.core.frame.DataFrame'>\n",
      "Int64Index: 6408 entries, 0 to 6594\n",
      "Data columns (total 15 columns):\n",
      " #   Column                          Non-Null Count  Dtype \n",
      "---  ------                          --------------  ----- \n",
      " 0   Id                              6408 non-null   object\n",
      " 1   Is this a meme?                 6408 non-null   object\n",
      " 2   Image                           5101 non-null   object\n",
      " 3   Text                            5101 non-null   object\n",
      " 4   Image + Text                    5101 non-null   object\n",
      " 5   Against Women                   6408 non-null   object\n",
      " 6   Against Country/Region          6408 non-null   object\n",
      " 7   Against Sexual Preference       6408 non-null   object\n",
      " 8   Against Religion/Ethinicity     6408 non-null   object\n",
      " 9   Against Celebrity/Individual    6408 non-null   object\n",
      " 10  Against Brand/Industry/Product  6408 non-null   object\n",
      " 11  Against Organization            6408 non-null   object\n",
      " 12  Sexual Content                  6408 non-null   object\n",
      " 13  Violent Content                 6408 non-null   object\n",
      " 14  Other Reason                    6408 non-null   object\n",
      "dtypes: object(15)\n",
      "memory usage: 801.0+ KB\n"
     ]
    }
   ],
   "source": [
    "df = df.drop_duplicates()\n",
    "df.info()"
   ]
  },
  {
   "cell_type": "code",
   "execution_count": 37,
   "id": "4bee25cc",
   "metadata": {},
   "outputs": [
    {
     "data": {
      "text/plain": [
       "Yes    5101\n",
       "No     1307\n",
       "Name: Is this a meme?, dtype: int64"
      ]
     },
     "execution_count": 37,
     "metadata": {},
     "output_type": "execute_result"
    }
   ],
   "source": [
    "df['Is this a meme?'].value_counts()"
   ]
  },
  {
   "cell_type": "code",
   "execution_count": 38,
   "id": "47ef115a",
   "metadata": {},
   "outputs": [],
   "source": [
    "df = df[~((df['Image'].isin(['Harmful', 'Severely Harmful']) | df['Text'].isin(['Harmful', 'Severely Harmful'])) & (df['Image + Text'] == 'Non Harmful'))]"
   ]
  },
  {
   "cell_type": "code",
   "execution_count": 39,
   "id": "e1d65e33",
   "metadata": {},
   "outputs": [
    {
     "name": "stdout",
     "output_type": "stream",
     "text": [
      "<class 'pandas.core.frame.DataFrame'>\n",
      "Int64Index: 6284 entries, 0 to 6594\n",
      "Data columns (total 15 columns):\n",
      " #   Column                          Non-Null Count  Dtype \n",
      "---  ------                          --------------  ----- \n",
      " 0   Id                              6284 non-null   object\n",
      " 1   Is this a meme?                 6284 non-null   object\n",
      " 2   Image                           4977 non-null   object\n",
      " 3   Text                            4977 non-null   object\n",
      " 4   Image + Text                    4977 non-null   object\n",
      " 5   Against Women                   6284 non-null   object\n",
      " 6   Against Country/Region          6284 non-null   object\n",
      " 7   Against Sexual Preference       6284 non-null   object\n",
      " 8   Against Religion/Ethinicity     6284 non-null   object\n",
      " 9   Against Celebrity/Individual    6284 non-null   object\n",
      " 10  Against Brand/Industry/Product  6284 non-null   object\n",
      " 11  Against Organization            6284 non-null   object\n",
      " 12  Sexual Content                  6284 non-null   object\n",
      " 13  Violent Content                 6284 non-null   object\n",
      " 14  Other Reason                    6284 non-null   object\n",
      "dtypes: object(15)\n",
      "memory usage: 785.5+ KB\n"
     ]
    }
   ],
   "source": [
    "df.info()"
   ]
  },
  {
   "cell_type": "code",
   "execution_count": 40,
   "id": "46f14001",
   "metadata": {},
   "outputs": [],
   "source": [
    "df = df[~(df['Image'].isin(['Mark For Review']) | df['Text'].isin(['Mark For Review']) | df['Image + Text'].isin(['Mark For Review']))]"
   ]
  },
  {
   "cell_type": "code",
   "execution_count": 41,
   "id": "79620bfc",
   "metadata": {},
   "outputs": [
    {
     "name": "stdout",
     "output_type": "stream",
     "text": [
      "<class 'pandas.core.frame.DataFrame'>\n",
      "Int64Index: 5072 entries, 0 to 6591\n",
      "Data columns (total 15 columns):\n",
      " #   Column                          Non-Null Count  Dtype \n",
      "---  ------                          --------------  ----- \n",
      " 0   Id                              5072 non-null   object\n",
      " 1   Is this a meme?                 5072 non-null   object\n",
      " 2   Image                           3765 non-null   object\n",
      " 3   Text                            3765 non-null   object\n",
      " 4   Image + Text                    3765 non-null   object\n",
      " 5   Against Women                   5072 non-null   object\n",
      " 6   Against Country/Region          5072 non-null   object\n",
      " 7   Against Sexual Preference       5072 non-null   object\n",
      " 8   Against Religion/Ethinicity     5072 non-null   object\n",
      " 9   Against Celebrity/Individual    5072 non-null   object\n",
      " 10  Against Brand/Industry/Product  5072 non-null   object\n",
      " 11  Against Organization            5072 non-null   object\n",
      " 12  Sexual Content                  5072 non-null   object\n",
      " 13  Violent Content                 5072 non-null   object\n",
      " 14  Other Reason                    5072 non-null   object\n",
      "dtypes: object(15)\n",
      "memory usage: 634.0+ KB\n"
     ]
    }
   ],
   "source": [
    "df.info()"
   ]
  },
  {
   "cell_type": "code",
   "execution_count": 50,
   "id": "ae1054e5",
   "metadata": {},
   "outputs": [
    {
     "name": "stdout",
     "output_type": "stream",
     "text": [
      "<class 'pandas.core.frame.DataFrame'>\n",
      "Int64Index: 3681 entries, 0 to 6591\n",
      "Data columns (total 15 columns):\n",
      " #   Column                          Non-Null Count  Dtype \n",
      "---  ------                          --------------  ----- \n",
      " 0   Id                              3681 non-null   object\n",
      " 1   Is this a meme?                 3681 non-null   object\n",
      " 2   Image                           3681 non-null   object\n",
      " 3   Text                            3681 non-null   object\n",
      " 4   Image + Text                    3681 non-null   object\n",
      " 5   Against Women                   3681 non-null   object\n",
      " 6   Against Country/Region          3681 non-null   object\n",
      " 7   Against Sexual Preference       3681 non-null   object\n",
      " 8   Against Religion/Ethinicity     3681 non-null   object\n",
      " 9   Against Celebrity/Individual    3681 non-null   object\n",
      " 10  Against Brand/Industry/Product  3681 non-null   object\n",
      " 11  Against Organization            3681 non-null   object\n",
      " 12  Sexual Content                  3681 non-null   object\n",
      " 13  Violent Content                 3681 non-null   object\n",
      " 14  Other Reason                    3681 non-null   object\n",
      "dtypes: object(15)\n",
      "memory usage: 460.1+ KB\n"
     ]
    }
   ],
   "source": [
    "df = df.drop_duplicates('Id', keep='last')\n",
    "df.info()"
   ]
  },
  {
   "cell_type": "code",
   "execution_count": 51,
   "id": "621118ac",
   "metadata": {},
   "outputs": [],
   "source": [
    "df =  df[(df['Is this a meme?']=='Yes')]"
   ]
  },
  {
   "cell_type": "code",
   "execution_count": 52,
   "id": "5acf45ad",
   "metadata": {},
   "outputs": [
    {
     "name": "stdout",
     "output_type": "stream",
     "text": [
      "<class 'pandas.core.frame.DataFrame'>\n",
      "Int64Index: 3681 entries, 0 to 6591\n",
      "Data columns (total 15 columns):\n",
      " #   Column                          Non-Null Count  Dtype \n",
      "---  ------                          --------------  ----- \n",
      " 0   Id                              3681 non-null   object\n",
      " 1   Is this a meme?                 3681 non-null   object\n",
      " 2   Image                           3681 non-null   object\n",
      " 3   Text                            3681 non-null   object\n",
      " 4   Image + Text                    3681 non-null   object\n",
      " 5   Against Women                   3681 non-null   object\n",
      " 6   Against Country/Region          3681 non-null   object\n",
      " 7   Against Sexual Preference       3681 non-null   object\n",
      " 8   Against Religion/Ethinicity     3681 non-null   object\n",
      " 9   Against Celebrity/Individual    3681 non-null   object\n",
      " 10  Against Brand/Industry/Product  3681 non-null   object\n",
      " 11  Against Organization            3681 non-null   object\n",
      " 12  Sexual Content                  3681 non-null   object\n",
      " 13  Violent Content                 3681 non-null   object\n",
      " 14  Other Reason                    3681 non-null   object\n",
      "dtypes: object(15)\n",
      "memory usage: 460.1+ KB\n"
     ]
    }
   ],
   "source": [
    "df.info()"
   ]
  },
  {
   "cell_type": "code",
   "execution_count": 53,
   "id": "255f8c44",
   "metadata": {},
   "outputs": [],
   "source": [
    "df.to_csv('AnnotatedComplete.csv', index = False)"
   ]
  },
  {
   "cell_type": "code",
   "execution_count": 54,
   "id": "df3c03a0",
   "metadata": {},
   "outputs": [
    {
     "data": {
      "image/png": "[encoded data removed]",
      "text/plain": [
       "<Figure size 432x288 with 1 Axes>"
      ]
     },
     "metadata": {
      "needs_background": "light"
     },
     "output_type": "display_data"
    }
   ],
   "source": [
    "import matplotlib.pyplot as plt\n",
    "\n",
    "reason_type=['Against Women','Against Country/Region','Against Sexual Preference','Against Religion/Ethinicity','Against Celebrity/Individual', 'Against Brand/Industry/Product', 'Against Organization', 'Sexual Content', 'Violent Content', 'Other Reason']\n",
    "reason_count = [len(df[df[i]==1]) for i in reason_type]\n",
    "\n",
    "plt.barh(reason_type, reason_count, alpha=0.8)\n",
    "plt.xlabel(\"Reason\")\n",
    "plt.ylabel(\"Count\")\n",
    "plt.title(\"Bar Plot\")\n",
    "plt.xticks(rotation=90)\n",
    "\n",
    "for i, v in enumerate(reason_count):\n",
    "    plt.text(v + 3, i, str(v), color='blue', fontweight='bold')\n",
    "\n",
    "plt.show()"
   ]
  },
  {
   "cell_type": "code",
   "execution_count": null,
   "id": "6b8dbe64",
   "metadata": {},
   "outputs": [],
   "source": []
  },
  {
   "cell_type": "code",
   "execution_count": null,
   "id": "abf4612e",
   "metadata": {},
   "outputs": [],
   "source": []
  }
 ],
 "metadata": {
  "kernelspec": {
   "display_name": "base",
   "language": "python",
   "name": "python3"
  },
  "language_info": {
   "codemirror_mode": {
    "name": "ipython",
    "version": 3
   },
   "file_extension": ".py",
   "mimetype": "text/x-python",
   "name": "python",
   "nbconvert_exporter": "python",
   "pygments_lexer": "ipython3",
   "version": "3.9.7"
  },
  "vscode": {
   "interpreter": {
    "hash": "9e40f00c4cda9194e6f7bca01dcded706cece6b68773349b5408ba20dabca6da"
   }
  }
 },
 "nbformat": 4,
 "nbformat_minor": 5
}
